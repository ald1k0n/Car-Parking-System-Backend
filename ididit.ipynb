{
 "cells": [
  {
   "cell_type": "code",
   "execution_count": 1,
   "id": "c5183d93",
   "metadata": {},
   "outputs": [
    {
     "name": "stdout",
     "output_type": "stream",
     "text": [
      "Detected text: O02KM\n",
      "Detected text: 001KM\n",
      "All detected texts: ['O02KM', '001KM']\n"
     ]
    },
    {
     "data": {
      "text/plain": [
       "-1"
      ]
     },
     "execution_count": 1,
     "metadata": {},
     "output_type": "execute_result"
    }
   ],
   "source": [
    "import cv2\n",
    "import pytesseract\n",
    "import re\n",
    "\n",
    "pytesseract.pytesseract.tesseract_cmd = 'C:\\Program Files\\Tesseract-OCR\\\\tesseract.exe'\n",
    "\n",
    "image = cv2.imread('asd4.jpg')\n",
    "height, width = image.shape[:2]\n",
    "\n",
    "gray = cv2.cvtColor(image, cv2.COLOR_BGR2GRAY)\n",
    "blurred = cv2.GaussianBlur(gray, (3, 3), 0)\n",
    "canny = cv2.Canny(blurred, 120, 255, 1)\n",
    "\n",
    "# Find contours\n",
    "cnts = cv2.findContours(canny, cv2.RETR_EXTERNAL, cv2.CHAIN_APPROX_SIMPLE)\n",
    "cnts = cnts[0] if len(cnts) == 2 else cnts[1]\n",
    "\n",
    "text_saved = []  # Store detected texts in a list\n",
    "\n",
    "# Iterate through contours and draw rectangles around contours\n",
    "for i, c in enumerate(cnts):\n",
    "    x, y, w, h = cv2.boundingRect(c)\n",
    "    # Check if the width is at least 3 times the height, 7 times less than the height,\n",
    "    # less than 1/3 of the width of the picture and less than 1/20 of the width of the picture\n",
    "    if w >= 3 * h and w <= 6 * h and w <= width / 3 and w >= width / 15:\n",
    "        # Use OCR to extract text from the selected rectangle\n",
    "        config = \"--psm 11 --oem 3 -c textord_tabfind_find_tables=0 textord_tabfind_only_strokewidths_below_height_fraction=0\"\n",
    "        roi = gray[y:y+h, x:x+w]\n",
    "        text = pytesseract.image_to_string(roi, lang='eng', config=config)\n",
    "        \n",
    "        # Remove spaces and non-alphanumeric characters from the text\n",
    "        text = re.sub(r'\\s+', '', text)\n",
    "        text = re.sub(r'\\W', '', text)\n",
    "        \n",
    "        # Show the rectangle only if it contains more than 4 characters\n",
    "        if len(text) > 4:\n",
    "            print(f\"Detected text: {text}\")\n",
    "            text_saved.append(text)  # Add detected text to the list\n",
    "            \n",
    "            cv2.rectangle(image, (x, y), (x + w, y + h), (36, 255, 12), 2)\n",
    "\n",
    "# Display all detected texts\n",
    "print(f\"All detected texts: {text_saved}\")\n",
    "\n",
    "cv2.imshow('image', image)\n",
    "cv2.waitKey(0)\n"
   ]
  },
  {
   "cell_type": "code",
   "execution_count": 11,
   "id": "1e055ffe",
   "metadata": {},
   "outputs": [
    {
     "name": "stdout",
     "output_type": "stream",
     "text": [
      "Detected text: kz24BHCA11\n",
      "All detected texts: ['kz24BHCA11']\n"
     ]
    },
    {
     "data": {
      "text/plain": [
       "-1"
      ]
     },
     "execution_count": 11,
     "metadata": {},
     "output_type": "execute_result"
    }
   ],
   "source": []
  },
  {
   "cell_type": "code",
   "execution_count": 2,
   "id": "6f1ce819",
   "metadata": {},
   "outputs": [
    {
     "name": "stdout",
     "output_type": "stream",
     "text": [
      "Detected text: O02KM\n",
      "Detected text: 001KM\n",
      "All detected texts: ['O02KM', '001KM']\n"
     ]
    }
   ],
   "source": [
    "import cv2\n",
    "import pytesseract\n",
    "import re\n",
    "import os\n",
    "\n",
    "\n",
    "if not os.path.exists(\"carplates\"):\n",
    "    os.makedirs(\"carplates\")\n",
    "pytesseract.pytesseract.tesseract_cmd = 'C:\\Program Files\\Tesseract-OCR\\\\tesseract.exe'\n",
    "\n",
    "image = cv2.imread('asd4.jpg')\n",
    "height, width = image.shape[:2]\n",
    "\n",
    "gray = cv2.cvtColor(image, cv2.COLOR_BGR2GRAY)\n",
    "blurred = cv2.GaussianBlur(gray, (3, 3), 0)\n",
    "canny = cv2.Canny(blurred, 120, 255, 1)\n",
    "\n",
    "# Find contours\n",
    "cnts = cv2.findContours(canny, cv2.RETR_EXTERNAL, cv2.CHAIN_APPROX_SIMPLE)\n",
    "cnts = cnts[0] if len(cnts) == 2 else cnts[1]\n",
    "\n",
    "text_saved = []  # Store detected texts in a list\n",
    "\n",
    "# Iterate through contours and save the region of interest containing the car plate\n",
    "for i, c in enumerate(cnts):\n",
    "    x, y, w, h = cv2.boundingRect(c)\n",
    "    # Check if the width is at least 3 times the height, 7 times less than the height,\n",
    "    # less than 1/3 of the width of the picture and less than 1/20 of the width of the picture\n",
    "    if w >= 3 * h and w <= 6 * h and w <= width / 3 and w >= width / 15:\n",
    "        # Use OCR to extract text from the selected rectangle\n",
    "        roi = gray[y:y+h, x:x+w]\n",
    "        text = pytesseract.image_to_string(roi, lang='eng', config='--psm 11')\n",
    "        \n",
    "        # Remove spaces and non-alphanumeric characters from the text\n",
    "        text = re.sub(r'\\s+', '', text)\n",
    "        text = re.sub(r'\\W', '', text)\n",
    "        \n",
    "        # Show the rectangle only if it contains more than 4 characters, 2 digits and 2 uppercase letters\n",
    "        if len(text) > 4 and sum(1 for c in text if c.isupper()) >= 2 and sum(1 for c in text if c.isdigit()) >= 2:\n",
    "            print(f\"Detected text: {text}\")\n",
    "            text_saved.append(text)  # Add detected text to the list\n",
    "            \n",
    "            # Save the region of interest as a separate image\n",
    "            plate_img = image[y:y+h, x:x+w]\n",
    "            cv2.imwrite(f\"carplates/plate{i}.jpg\", plate_img)\n",
    "\n",
    "# Display all detected texts\n",
    "print(f\"All detected texts: {text_saved}\")\n"
   ]
  },
  {
   "cell_type": "code",
   "execution_count": 39,
   "id": "2fa774d7",
   "metadata": {},
   "outputs": [
    {
     "ename": "IndexError",
     "evalue": "list index out of range",
     "output_type": "error",
     "traceback": [
      "\u001b[1;31m---------------------------------------------------------------------------\u001b[0m",
      "\u001b[1;31mIndexError\u001b[0m                                Traceback (most recent call last)",
      "\u001b[1;32m~\\AppData\\Local\\Temp\\ipykernel_11312\\2049174370.py\u001b[0m in \u001b[0;36m<module>\u001b[1;34m\u001b[0m\n\u001b[1;32m----> 1\u001b[1;33m \u001b[0mprint\u001b[0m\u001b[1;33m(\u001b[0m\u001b[1;34mf\"All detected texts: {text_saved[0]}\"\u001b[0m\u001b[1;33m)\u001b[0m\u001b[1;33m\u001b[0m\u001b[1;33m\u001b[0m\u001b[0m\n\u001b[0m",
      "\u001b[1;31mIndexError\u001b[0m: list index out of range"
     ]
    }
   ],
   "source": [
    "print(f\"All detected texts: {text_saved[0]}\")"
   ]
  },
  {
   "cell_type": "code",
   "execution_count": null,
   "id": "10a8f85c",
   "metadata": {},
   "outputs": [],
   "source": []
  }
 ],
 "metadata": {
  "kernelspec": {
   "display_name": "Python 3 (ipykernel)",
   "language": "python",
   "name": "python3"
  },
  "language_info": {
   "codemirror_mode": {
    "name": "ipython",
    "version": 3
   },
   "file_extension": ".py",
   "mimetype": "text/x-python",
   "name": "python",
   "nbconvert_exporter": "python",
   "pygments_lexer": "ipython3",
   "version": "3.9.13"
  }
 },
 "nbformat": 4,
 "nbformat_minor": 5
}
